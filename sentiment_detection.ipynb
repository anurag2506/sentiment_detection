{
  "nbformat": 4,
  "nbformat_minor": 0,
  "metadata": {
    "colab": {
      "provenance": [],
      "authorship_tag": "ABX9TyORR42tshs8P+OH0Rv2FIOx",
      "include_colab_link": true
    },
    "kernelspec": {
      "name": "python3",
      "display_name": "Python 3"
    },
    "language_info": {
      "name": "python"
    }
  },
  "cells": [
    {
      "cell_type": "markdown",
      "metadata": {
        "id": "view-in-github",
        "colab_type": "text"
      },
      "source": [
        "<a href=\"https://colab.research.google.com/github/anurag2506/sentiment_detection/blob/main/sentiment_detection.ipynb\" target=\"_parent\"><img src=\"https://colab.research.google.com/assets/colab-badge.svg\" alt=\"Open In Colab\"/></a>"
      ]
    },
    {
      "cell_type": "code",
      "source": [
        "!pip install newspaper3k\n",
        "from newspaper import Article"
      ],
      "metadata": {
        "id": "jdEWoUqOiFay"
      },
      "execution_count": null,
      "outputs": []
    },
    {
      "cell_type": "code",
      "source": [
        "import newspaper\n",
        "print(newspaper.__version__)\n"
      ],
      "metadata": {
        "colab": {
          "base_uri": "https://localhost:8080/"
        },
        "id": "ps6s33a8iM-c",
        "outputId": "7864c18e-42ff-48c2-9448-d1aa81c450a6"
      },
      "execution_count": 8,
      "outputs": [
        {
          "output_type": "stream",
          "name": "stdout",
          "text": [
            "0.2.8\n"
          ]
        }
      ]
    },
    {
      "cell_type": "code",
      "execution_count": 9,
      "metadata": {
        "id": "848GRgg4ALJf"
      },
      "outputs": [],
      "source": [
        "from textblob import TextBlob\n",
        "from newspaper import Article"
      ]
    },
    {
      "cell_type": "code",
      "source": [
        "!pip install nltk\n",
        "import nltk\n",
        "nltk.download('punkt')"
      ],
      "metadata": {
        "id": "IRqkraB5jrhV"
      },
      "execution_count": null,
      "outputs": []
    },
    {
      "cell_type": "markdown",
      "source": [
        "Here I have taken a url from the internet and converted it into an article and using the summary function I have summarised the text to predict the genera sentiment"
      ],
      "metadata": {
        "id": "-QU9TzLLEWsK"
      }
    },
    {
      "cell_type": "code",
      "source": [
        "url='https://www.britannica.com/event/September-11-attacks'\n",
        "article=Article(url)\n",
        "article.download()\n",
        "article.parse()\n",
        "article.nlp()\n",
        "\n",
        "text=article.summary\n",
        "print(text)"
      ],
      "metadata": {
        "id": "D1lPtzCkAv7g",
        "colab": {
          "base_uri": "https://localhost:8080/"
        },
        "outputId": "4cfdebff-2854-4908-a00a-39ebcaa3587c"
      },
      "execution_count": 11,
      "outputs": [
        {
          "output_type": "stream",
          "name": "stdout",
          "text": [
            "Al-Qaeda leader Osama bin Laden is considered the mastermind of the attacks, though Khalid Sheikh Mohammed was the operational planner.\n",
            "All 19 hijackers died in the attacks, bin Laden was killed by U.S. forces in 2011, and Mohammed was captured in 2003.\n",
            "The September 11 attacks were a series of airline hijackings and suicide attacks committed in 2001 by 19 terrorists associated with the Islamic extremist group al-Qaeda .\n",
            "Mohammed Atta Florida driver's license photo of Mohammed Atta.\n",
            "Throughout his stay in the United States, Atta kept Binalshibh updated on the plot’s progress via e-mail.\n"
          ]
        }
      ]
    },
    {
      "cell_type": "code",
      "source": [
        "blob=TextBlob(text)\n",
        "sentiment=blob.sentiment.polarity\n",
        "print(sentiment)"
      ],
      "metadata": {
        "colab": {
          "base_uri": "https://localhost:8080/"
        },
        "id": "Ih2PbBrvlale",
        "outputId": "ae4b8f1f-0449-4e05-e7a2-cbe33bb6c887"
      },
      "execution_count": 12,
      "outputs": [
        {
          "output_type": "stream",
          "name": "stdout",
          "text": [
            "-0.2\n"
          ]
        }
      ]
    },
    {
      "cell_type": "markdown",
      "source": [
        "Up to this checkpoint I was taking text from the internet regarding different topics, from pleasant topics to the most horrible happenings in world history\n",
        "\n",
        "But after this code I will be experimenting with text that I have created in txt format in the notepad"
      ],
      "metadata": {
        "id": "kdW3WyuDDbM7"
      }
    },
    {
      "cell_type": "code",
      "source": [
        "with open('text(sent_detec).txt','r' )as f:\n",
        "  text1=f.read()"
      ],
      "metadata": {
        "id": "4SsQUo_XljJ7"
      },
      "execution_count": 1,
      "outputs": []
    },
    {
      "cell_type": "code",
      "source": [
        "blob=TextBlob(text1)\n",
        "sentiment=blob.sentiment.polarity\n",
        "print(sentiment)"
      ],
      "metadata": {
        "id": "cffqrumboFAb"
      },
      "execution_count": null,
      "outputs": []
    },
    {
      "cell_type": "markdown",
      "source": [
        "To depict different emotions I have chosen a variety of emojis whose paths I have inputted in a map"
      ],
      "metadata": {
        "id": "m33iBBI0D1Ag"
      }
    },
    {
      "cell_type": "code",
      "source": [
        "emoji_map={\"highly_positive\":\"/content/0.5-1.png\",\n",
        "           \"positive\":\"/content/0-0.5.png\",\n",
        "           \"neutral\":\"/content/0.png\",\n",
        "           \"negative\":\"/content/-0.5-0.png\",\n",
        "           \"highly_negative\":\"/content/-1-0.5.png\"}"
      ],
      "metadata": {
        "id": "BEew18B8oamx"
      },
      "execution_count": 14,
      "outputs": []
    },
    {
      "cell_type": "markdown",
      "source": [
        "Here I have defined a function that will predict the sentiment of the text inputted and map to the respective emoji from the map"
      ],
      "metadata": {
        "id": "6iGDacwbEI5s"
      }
    },
    {
      "cell_type": "code",
      "source": [
        "def predict_sentiment_and_emoji(text):\n",
        "  sentiment = TextBlob(text).sentiment.polarity\n",
        "\n",
        "  if sentiment >= 0.5:\n",
        "    sentiment_category = \"highly_positive\"\n",
        "  elif sentiment >0 and sentiment<0.5:\n",
        "    sentiment_category = \"positive\"\n",
        "  elif sentiment <= -0.5:\n",
        "    sentiment_category = \"highly_negative\"\n",
        "  elif sentiment > -0.5 and sentiment <0:\n",
        "    sentiment_category = \"negative\"\n",
        "  else:\n",
        "    sentiment_category = \"neutral\"\n",
        "\n",
        "  return emoji_map[sentiment_category]"
      ],
      "metadata": {
        "id": "vowpMpzpsGdJ"
      },
      "execution_count": 15,
      "outputs": []
    },
    {
      "cell_type": "code",
      "source": [
        "!pip install matplotlib\n",
        "\n",
        "import matplotlib.pyplot as plt\n",
        "import cv2\n"
      ],
      "metadata": {
        "id": "o9lXxXHhC5q2"
      },
      "execution_count": 29,
      "outputs": []
    },
    {
      "cell_type": "code",
      "source": [
        "img_path=predict_sentiment_and_emoji(text1)\n",
        "image = cv2.imread(img_path)\n",
        "plt.imshow(image)\n",
        "plt.show()"
      ],
      "metadata": {
        "id": "D1fWim8z_S3U"
      },
      "execution_count": null,
      "outputs": []
    },
    {
      "cell_type": "code",
      "source": [],
      "metadata": {
        "id": "94KM1-WBBJsf"
      },
      "execution_count": null,
      "outputs": []
    }
  ]
}